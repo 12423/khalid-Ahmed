{
 "cells": [
  {
   "cell_type": "code",
   "execution_count": 2,
   "metadata": {
    "collapsed": false
   },
   "outputs": [
    {
     "name": "stdout",
     "output_type": "stream",
     "text": [
      "Enter a number: 5\n",
      "Odd\n"
     ]
    }
   ],
   "source": [
    "num = int(input(\"Enter a number: \"))\n",
    "if (num % 2 == 0):\n",
    "   print(\"Even\")\n",
    "else:\n",
    "   print(\"Odd\")\n"
   ]
  },
  {
   "cell_type": "code",
   "execution_count": 3,
   "metadata": {
    "collapsed": false
   },
   "outputs": [
    {
     "name": "stdout",
     "output_type": "stream",
     "text": [
      "Enter a number: 5\n",
      "spring\n"
     ]
    }
   ],
   "source": [
    "n= int(input(\"Enter a number: \"))\n",
    "if (n==1 or n==2 or n==11 or n==12):\n",
    "    print(\"winter\")\n",
    "elif(n==7 or n==6 or n==8):\n",
    "    print(\"summer\")\n",
    "elif(n==3 or n==4 or n==5): \n",
    "    print(\"spring\")\n",
    "elif(n==9 or n==10):\n",
    "     print(\"autumn\")\n",
    "    "
   ]
  },
  {
   "cell_type": "code",
   "execution_count": 9,
   "metadata": {
    "collapsed": false
   },
   "outputs": [
    {
     "name": "stdout",
     "output_type": "stream",
     "text": [
      "Enter a number: 103\n",
      "year is not a leap year\n"
     ]
    }
   ],
   "source": [
    "year= int(input(\"Enter a number: \"))\n",
    "if (year % 4 == 0):\n",
    "   if (year % 100 == 0):\n",
    "       if (year % 400 == 0):\n",
    "           print(\"This year is a leap year\")\n",
    "       else:\n",
    "           print(\"This year is not a leap year\")\n",
    "   else:\n",
    "       print(\"This year is a leap year\")\n",
    "else:\n",
    "   print(\"This year is not a leap year\")"
   ]
  },
  {
   "cell_type": "code",
   "execution_count": 15,
   "metadata": {
    "collapsed": false
   },
   "outputs": [
    {
     "name": "stdout",
     "output_type": "stream",
     "text": [
      "el o\n",
      "rwol\n",
      "dlrow olleh\n"
     ]
    }
   ],
   "source": [
    "s = \"hello world\"\n",
    "print(s[1:8:2])\n",
    "print(s[8:1:-2])\n",
    "print(s[::-1])"
   ]
  },
  {
   "cell_type": "code",
   "execution_count": null,
   "metadata": {
    "collapsed": true
   },
   "outputs": [],
   "source": []
  }
 ],
 "metadata": {
  "kernelspec": {
   "display_name": "Python [Root]",
   "language": "python",
   "name": "Python [Root]"
  },
  "language_info": {
   "codemirror_mode": {
    "name": "ipython",
    "version": 3
   },
   "file_extension": ".py",
   "mimetype": "text/x-python",
   "name": "python",
   "nbconvert_exporter": "python",
   "pygments_lexer": "ipython3",
   "version": "3.5.2"
  }
 },
 "nbformat": 4,
 "nbformat_minor": 0
}
